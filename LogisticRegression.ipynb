{
 "cells": [
  {
   "cell_type": "markdown",
   "metadata": {},
   "source": [
    "# # Introduction to Logistic Regression in PyTorch\n"
   ]
  },
  {
   "cell_type": "markdown",
   "metadata": {},
   "source": [
    "In this Notebook we will be building a Neural Network on the MNIST dataset and implementing the logistic regression model.We will be including the forward and backward pass along with the loss function and optimizers.After training the model we will evaluate how we did and visualize what we've learned."
   ]
  },
  {
   "cell_type": "markdown",
   "metadata": {},
   "source": [
    "Imports of the packages we will be using."
   ]
  },
  {
   "cell_type": "code",
   "execution_count": 1,
   "metadata": {},
   "outputs": [],
   "source": [
    "%matplotlib inline\n",
    "import numpy as np\n",
    "import matplotlib.pyplot as plt\n",
    "import torch\n",
    "from tqdm.notebook import tqdm"
   ]
  },
  {
   "cell_type": "markdown",
   "metadata": {},
   "source": [
    "### MNIST Dataset"
   ]
  },
  {
   "cell_type": "markdown",
   "metadata": {},
   "source": [
    "The MNIST database (Modified National Institute of Standards and Technology database is a large database of handwritten digits that is commonly used for training various image processing systems.The MNIST database contains 60,000 training images and 10,000 testing images.\n",
    "\n",
    "![MNIST](Figures/MnistExamples.png)\n",
    "\n",
    "The first and foremost step in machine learning is preparing the data , this involves downloading, organzing, shuffling, processing the data so it can be fed into the model.\n",
    "The torchvision package makes this easy for us by implementing many of these , allowing us to put to use these datasets in only a few lines of code.\n"
   ]
  },
  {
   "cell_type": "code",
   "execution_count": 5,
   "metadata": {},
   "outputs": [],
   "source": [
    "from torchvision import datasets, transforms\n",
    "\n",
    "mnist_train = datasets.MNIST(root=\"./datasets\", train=True, transform=transforms.ToTensor(), download=True)\n",
    "mnist_test = datasets.MNIST(root=\"./datasets\", train=False, transform=transforms.ToTensor(), download=True)"
   ]
  },
  {
   "cell_type": "code",
   "execution_count": 6,
   "metadata": {},
   "outputs": [
    {
     "name": "stdout",
     "output_type": "stream",
     "text": [
      "Number of MNIST Training Examples: 60000\n",
      "Number of MNIST Testing Exmaples: 10000\n"
     ]
    }
   ],
   "source": [
    "print(\"Number of MNIST Training Examples: {}\".format(len(mnist_train)))\n",
    "print(\"Number of MNIST Testing Exmaples: {}\".format(len(mnist_test)))"
   ]
  },
  {
   "cell_type": "markdown",
   "metadata": {},
   "source": [
    "As expected 60,000 of the MNIST examples are in the training set while the rest 10,000 are in the testing set. We added the transform ToTensor() to convert the input data from a PIL type into a PyTorch Tensor. Tensors are the input type that we feed into our model.\n",
    "\n",
    "Checking a random image from our train set. The shape of ourimage tensor returns to be something 3-Dimensional , To visualize this we need to remove the 1 which indicates \n"
   ]
  },
  {
   "cell_type": "code",
   "execution_count": 20,
   "metadata": {},
   "outputs": [
    {
     "name": "stdout",
     "output_type": "stream",
     "text": [
      "Default Image Shape torch.Size([1, 28, 28])\n",
      "Reshaped Image Shape torch.Size([28, 28])\n",
      "The label for this Image 0\n"
     ]
    },
    {
     "data": {
      "image/png": "[encoded data removed]",
      "text/plain": [
       "<Figure size 432x288 with 1 Axes>"
      ]
     },
     "metadata": {
      "needs_background": "light"
     },
     "output_type": "display_data"
    }
   ],
   "source": [
    "image , label = mnist_train[435]\n",
    "print(\"Default Image Shape {}\".format(image.shape))\n",
    "image=image.reshape([28,28])\n",
    "print(\"Reshaped Image Shape {}\".format(image.shape))\n",
    "plt.imshow(image, cmap=\"gray\")\n",
    "print(\"The label for this Image {}\".format(label))"
   ]
  },
  {
   "cell_type": "markdown",
   "metadata": {},
   "source": [
    "While we could directly work with the date using `torchvision.dataset` we use `Data Loader` which makes it easier for shuffling and batching."
   ]
  },
  {
   "cell_type": "code",
   "execution_count": 21,
   "metadata": {},
   "outputs": [],
   "source": [
    "train_loader = torch.utils.data.DataLoader(mnist_train, batch_size=100, shuffle=True)\n",
    "test_loader = torch.utils.data.DataLoader(mnist_test, batch_size=100, shuffle=False)"
   ]
  },
  {
   "cell_type": "markdown",
   "metadata": {},
   "source": [
    "### Logistic Regression Model"
   ]
  },
  {
   "cell_type": "code",
   "execution_count": null,
   "metadata": {},
   "outputs": [],
   "source": []
  }
 ],
 "metadata": {
  "kernelspec": {
   "display_name": "Python 3",
   "language": "python",
   "name": "python3"
  },
  "language_info": {
   "codemirror_mode": {
    "name": "ipython",
    "version": 3
   },
   "file_extension": ".py",
   "mimetype": "text/x-python",
   "name": "python",
   "nbconvert_exporter": "python",
   "pygments_lexer": "ipython3",
   "version": "3.8.5"
  }
 },
 "nbformat": 4,
 "nbformat_minor": 4
}
